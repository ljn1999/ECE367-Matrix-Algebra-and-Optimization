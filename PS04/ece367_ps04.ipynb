{
  "nbformat": 4,
  "nbformat_minor": 0,
  "metadata": {
    "colab": {
      "name": "ece367_ps04.ipynb",
      "provenance": [],
      "collapsed_sections": []
    },
    "kernelspec": {
      "name": "python3",
      "display_name": "Python 3"
    },
    "language_info": {
      "name": "python"
    }
  },
  "cells": [
    {
      "cell_type": "code",
      "metadata": {
        "id": "4yLTC5N_gljL"
      },
      "source": [
        "import scipy.io\n",
        "import numpy as np\n",
        "import copy\n",
        "freq_matrix = scipy.io.loadmat('wordVecV.mat')['V']"
      ],
      "execution_count": null,
      "outputs": []
    },
    {
      "cell_type": "code",
      "metadata": {
        "colab": {
          "base_uri": "https://localhost:8080/"
        },
        "id": "ZgAxPiBEqXzC",
        "outputId": "9b866f1b-3185-48f3-bbd5-3b47bca3946c"
      },
      "source": [
        "print(freq_matrix.shape)\n",
        "M = np.zeros((freq_matrix.shape[0], freq_matrix.shape[1]))\n",
        "for i in range(freq_matrix.shape[0]):\n",
        "  for j in range(freq_matrix.shape[1]):\n",
        "    if freq_matrix[i][j] > 0:\n",
        "      M[i][j] = 1"
      ],
      "execution_count": null,
      "outputs": [
        {
          "output_type": "stream",
          "name": "stdout",
          "text": [
            "(1651, 10)\n"
          ]
        }
      ]
    },
    {
      "cell_type": "code",
      "metadata": {
        "id": "QEzEg2xfrkRd"
      },
      "source": [
        "for doc_idx in range(freq_matrix.shape[1]):\n",
        "  col = M[:, doc_idx]\n",
        "  length = np.linalg.norm(col)\n",
        "  for word_idx in range(freq_matrix.shape[0]):\n",
        "    M[word_idx][doc_idx] = M[word_idx][doc_idx]/length"
      ],
      "execution_count": null,
      "outputs": []
    },
    {
      "cell_type": "code",
      "metadata": {
        "colab": {
          "base_uri": "https://localhost:8080/"
        },
        "id": "PAWROxFdsVQm",
        "outputId": "38641736-ad94-4645-bfad-258fa384561f"
      },
      "source": [
        "U, S, VH = np.linalg.svd(M)\n",
        "print(S[:10])"
      ],
      "execution_count": null,
      "outputs": [
        {
          "output_type": "stream",
          "name": "stdout",
          "text": [
            "[1.53662942 1.01924241 0.95868454 0.95391295 0.9413064  0.9289078\n",
            " 0.8977405  0.89188192 0.86866454 0.81608339]\n"
          ]
        }
      ]
    },
    {
      "cell_type": "code",
      "metadata": {
        "id": "zzOmTdFnsVcz"
      },
      "source": [
        "K = 9\n",
        "d_all = []\n",
        "for i in range(freq_matrix.shape[1]):\n",
        "  basis_vector = np.zeros(freq_matrix.shape[1])\n",
        "  basis_vector[i] = 1\n",
        "  d = np.zeros(freq_matrix.shape[0])\n",
        "  for j in range(K):\n",
        "    #print((VH[j,:].reshape(1, 10)@basis_vector).shape)\n",
        "    d = d + S[j] * VH[j,:].reshape(1, freq_matrix.shape[1])@basis_vector * U[:, j]\n",
        "  d_all.append(d.reshape(freq_matrix.shape[0], 1))"
      ],
      "execution_count": null,
      "outputs": []
    },
    {
      "cell_type": "code",
      "metadata": {
        "colab": {
          "base_uri": "https://localhost:8080/"
        },
        "id": "3sckOc4pwVpA",
        "outputId": "7e57438d-01dd-461f-90fe-88b66c9237f1"
      },
      "source": [
        "smallest_distance = np.inf\n",
        "smallest_angle = np.inf\n",
        "smallest_distance_set = (0, 0)\n",
        "smallest_angle_set = (0, 0)\n",
        "for i in range(0, freq_matrix.shape[1]):\n",
        "  for j in range(i+1, freq_matrix.shape[1]):\n",
        "    distance = np.linalg.norm(d_all[i] - d_all[j])\n",
        "    if distance < smallest_distance:\n",
        "      smallest_distance = distance\n",
        "      smallest_distance_set = (i+1, j+1) # add one index\n",
        "    angle = np.arccos(d_all[i].T @ d_all[j] / \\\n",
        "                      (np.linalg.norm(d_all[i]) * np.linalg.norm(d_all[j])))\n",
        "    if angle <smallest_angle:\n",
        "      smallest_angle = angle\n",
        "      smallest_angle_set = (i+1, j+1) # add one index\n",
        "print(\"smallest distance pair\", smallest_distance_set)\n",
        "print(\"smallest angle pair\", smallest_angle_set)"
      ],
      "execution_count": null,
      "outputs": [
        {
          "output_type": "stream",
          "name": "stdout",
          "text": [
            "smallest distance pair (9, 10)\n",
            "smallest angle pair (9, 10)\n"
          ]
        }
      ]
    },
    {
      "cell_type": "code",
      "metadata": {
        "colab": {
          "base_uri": "https://localhost:8080/"
        },
        "id": "3ipFUzVCxmhO",
        "outputId": "5be07a36-502e-4a9b-ddb7-419cad5ec11e"
      },
      "source": [
        "K_list = [8, 7, 6, 5, 4, 3, 2, 1]\n",
        "for K in K_list:\n",
        "  print(\"K value:\", K)\n",
        "  d_all = []\n",
        "  for i in range(freq_matrix.shape[1]):\n",
        "    basis_vector = np.zeros(freq_matrix.shape[1])\n",
        "    basis_vector[i] = 1\n",
        "    d = np.zeros(freq_matrix.shape[0])\n",
        "    for j in range(K):\n",
        "      #print((VH[j,:].reshape(1, 10)@basis_vector).shape)\n",
        "      d = d + S[j] * VH[j,:].reshape(1, freq_matrix.shape[1])@basis_vector * U[:, j]\n",
        "    d_all.append(d.reshape(freq_matrix.shape[0], 1))\n",
        "\n",
        "  smallest_distance = np.inf\n",
        "  smallest_angle = np.inf\n",
        "  smallest_distance_set = (0, 0)\n",
        "  smallest_angle_set = (0, 0)\n",
        "  for i in range(0, freq_matrix.shape[1]):\n",
        "    for j in range(i+1, freq_matrix.shape[1]):\n",
        "      distance = np.linalg.norm(d_all[i] - d_all[j])\n",
        "      if distance < smallest_distance:\n",
        "        smallest_distance = distance\n",
        "        smallest_distance_set = (i+1, j+1) # add one index\n",
        "      angle = np.arccos(d_all[i].T @ d_all[j] / \\\n",
        "                        (np.linalg.norm(d_all[i]) * np.linalg.norm(d_all[j])))\n",
        "      if angle <smallest_angle:\n",
        "        smallest_angle = angle\n",
        "        smallest_angle_set = (i+1, j+1) # add one index\n",
        "  print(\"smallest distance pair\", smallest_distance_set)\n",
        "  print(\"smallest angle pair\", smallest_angle_set)"
      ],
      "execution_count": null,
      "outputs": [
        {
          "output_type": "stream",
          "name": "stdout",
          "text": [
            "K value: 8\n",
            "smallest distance pair (9, 10)\n",
            "smallest angle pair (9, 10)\n",
            "K value: 7\n",
            "smallest distance pair (9, 10)\n",
            "smallest angle pair (9, 10)\n",
            "K value: 6\n",
            "smallest distance pair (9, 10)\n",
            "smallest angle pair (9, 10)\n",
            "K value: 5\n",
            "smallest distance pair (9, 10)\n",
            "smallest angle pair (9, 10)\n",
            "K value: 4\n",
            "smallest distance pair (9, 10)\n",
            "smallest angle pair (9, 10)\n",
            "K value: 3\n",
            "smallest distance pair (9, 10)\n",
            "smallest angle pair (9, 10)\n",
            "K value: 2\n",
            "smallest distance pair (1, 6)\n",
            "smallest angle pair (1, 6)\n",
            "K value: 1\n",
            "smallest distance pair (2, 8)\n",
            "smallest angle pair (1, 5)\n"
          ]
        },
        {
          "output_type": "stream",
          "name": "stderr",
          "text": [
            "/usr/local/lib/python3.7/dist-packages/ipykernel_launcher.py:24: RuntimeWarning: invalid value encountered in arccos\n"
          ]
        }
      ]
    }
  ]
}