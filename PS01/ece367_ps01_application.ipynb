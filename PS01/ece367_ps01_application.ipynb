{
  "nbformat": 4,
  "nbformat_minor": 0,
  "metadata": {
    "colab": {
      "name": "ece367_ps01.ipynb",
      "provenance": [],
      "collapsed_sections": []
    },
    "kernelspec": {
      "name": "python3",
      "display_name": "Python 3"
    },
    "language_info": {
      "name": "python"
    }
  },
  "cells": [
    {
      "cell_type": "code",
      "metadata": {
        "id": "4yLTC5N_gljL"
      },
      "source": [
        "import scipy.io\n",
        "import numpy as np\n",
        "import copy\n",
        "freq_matrix = scipy.io.loadmat('wordVecV.mat')['V']"
      ],
      "execution_count": null,
      "outputs": []
    },
    {
      "cell_type": "code",
      "metadata": {
        "colab": {
          "base_uri": "https://localhost:8080/"
        },
        "id": "TADrBKAChJoA",
        "outputId": "d20c6958-dc35-4690-d80b-2b2e3911a6ad"
      },
      "source": [
        "print(freq_matrix.shape)\n",
        "smallest_distance = np.inf\n",
        "smallest_angle = np.inf\n",
        "smallest_distance_set = (0, 0)\n",
        "smallest_angle_set = (0, 0)\n",
        "for i in range(0, freq_matrix.shape[1]):\n",
        "  for j in range(i+1, freq_matrix.shape[1]):\n",
        "    distance = np.linalg.norm(freq_matrix[:, i] - freq_matrix[:, j])\n",
        "    if distance < smallest_distance:\n",
        "      smallest_distance = distance\n",
        "      smallest_distance_set = (i+1, j+1) # add one index\n",
        "    angle = np.arccos(freq_matrix[:, i].T @ freq_matrix[:, j] / \\\n",
        "                      (np.linalg.norm(freq_matrix[:, i]) * np.linalg.norm(freq_matrix[:, j])))\n",
        "    if angle <smallest_angle:\n",
        "      smallest_angle = angle\n",
        "      smallest_angle_set = (i+1, j+1) # add one index\n",
        "print(\"smallest distance pair\", smallest_distance_set)\n",
        "print(\"smallest angle pair\", smallest_angle_set)"
      ],
      "execution_count": null,
      "outputs": [
        {
          "output_type": "stream",
          "name": "stdout",
          "text": [
            "(1651, 10)\n",
            "smallest distance pair (7, 8)\n",
            "smallest angle pair (9, 10)\n"
          ]
        }
      ]
    },
    {
      "cell_type": "code",
      "metadata": {
        "colab": {
          "base_uri": "https://localhost:8080/"
        },
        "id": "1rG2-UgllX72",
        "outputId": "257286b8-c1e3-4e7f-f0cd-4584875ea809"
      },
      "source": [
        "normalized_freq_matrix = copy.deepcopy(freq_matrix)\n",
        "for i in range(0, freq_matrix.shape[1]):\n",
        "  sum = freq_matrix[:, i].sum()\n",
        "  normalized_freq_matrix[:, i] = normalized_freq_matrix[:, i] / sum\n",
        "\n",
        "smallest_distance = np.inf\n",
        "smallest_angle = np.inf\n",
        "smallest_distance_set = (0, 0)\n",
        "smallest_angle_set = (0, 0)\n",
        "for i in range(0, normalized_freq_matrix.shape[1]):\n",
        "  for j in range(i+1, normalized_freq_matrix.shape[1]):\n",
        "    distance = np.linalg.norm(normalized_freq_matrix[:, i] - normalized_freq_matrix[:, j])\n",
        "    if distance < smallest_distance:\n",
        "      smallest_distance = distance\n",
        "      smallest_distance_set = (i+1, j+1) # add one index\n",
        "    angle = np.arccos(normalized_freq_matrix[:, i].T @ normalized_freq_matrix[:, j] / \\\n",
        "                      (np.linalg.norm(normalized_freq_matrix[:, i]) * np.linalg.norm(normalized_freq_matrix[:, j])))\n",
        "    if angle < smallest_angle:\n",
        "      smallest_angle = angle\n",
        "      smallest_angle_set = (i+1, j+1) # add one index\n",
        "print(\"smallest distance pair\", smallest_distance_set)\n",
        "print(\"smallest angle pair\", smallest_angle_set)"
      ],
      "execution_count": null,
      "outputs": [
        {
          "output_type": "stream",
          "name": "stdout",
          "text": [
            "smallest distance pair (9, 10)\n",
            "smallest angle pair (9, 10)\n"
          ]
        }
      ]
    },
    {
      "cell_type": "code",
      "metadata": {
        "colab": {
          "base_uri": "https://localhost:8080/"
        },
        "id": "oUWS58fOpTdz",
        "outputId": "5fea525e-2f6a-4574-cb03-881a01fcd0bc"
      },
      "source": [
        "document_freq = np.zeros(freq_matrix.shape[0], )\n",
        "for i in range(0, freq_matrix.shape[0]):\n",
        "  for j in range(0, freq_matrix.shape[1]): \n",
        "    if freq_matrix[i][j] > 0:\n",
        "      document_freq[i] = document_freq[i] + 1\n",
        "\n",
        "inverse_document_freq = copy.deepcopy(freq_matrix)\n",
        "for i in range(0, freq_matrix.shape[0]):\n",
        "  sqrt_term = np.sqrt(np.log(freq_matrix.shape[1] / document_freq[i]))\n",
        "  for j in range(0, freq_matrix.shape[1]): \n",
        "    inverse_document_freq[i][j] = freq_matrix[i][j] \\\n",
        "                                / freq_matrix[:, j].sum() * sqrt_term\n",
        "\n",
        "smallest_distance = np.inf\n",
        "smallest_distance_set = (0, 0)\n",
        "for i in range(0, inverse_document_freq.shape[1]):\n",
        "  for j in range(i+1, inverse_document_freq.shape[1]):\n",
        "    distance = np.linalg.norm(inverse_document_freq[:, i] - inverse_document_freq[:, j])\n",
        "    if distance < smallest_distance:\n",
        "      smallest_distance = distance\n",
        "      smallest_distance_set = (i+1, j+1) # add one index\n",
        "print(\"smallest distance pair\", smallest_distance_set)"
      ],
      "execution_count": null,
      "outputs": [
        {
          "output_type": "stream",
          "name": "stdout",
          "text": [
            "smallest distance pair (9, 10)\n"
          ]
        }
      ]
    }
  ]
}